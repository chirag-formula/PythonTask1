{
 "cells": [
  {
   "cell_type": "code",
   "execution_count": 18,
   "id": "4af2b833-69eb-4f11-977b-847ac456f3b8",
   "metadata": {},
   "outputs": [
    {
     "name": "stdin",
     "output_type": "stream",
     "text": [
      "how many strings you want to enter:  4\n",
      "enter your strings:  Placement\n",
      "enter your strings:  nahi\n",
      "enter your strings:  Lagg\n",
      "enter your strings:  Rahi\n"
     ]
    },
    {
     "name": "stdout",
     "output_type": "stream",
     "text": [
      "{'P': 1, 'l': 1, 'a': 4, 'c': 1, 'e': 2, 'm': 1, 'n': 2, 't': 1, 'h': 2, 'i': 2, 'L': 1, 'g': 2, 'R': 1}\n"
     ]
    }
   ],
   "source": [
    "'''question 1 '''\n",
    "\n",
    "n = int(input(\"how many strings you want to enter: \"))\n",
    "li =[]\n",
    "counter={ }\n",
    "for i in range (n) :\n",
    "    stri = input(\"enter your strings: \")\n",
    "    li.append(stri)\n",
    "\n",
    "for i in li:\n",
    "    for letters in i :\n",
    "        if letters in counter:\n",
    "            counter[letters] = counter[letters] + 1\n",
    "        else :\n",
    "            counter[letters] = 1 \n",
    "print(counter)            "
   ]
  },
  {
   "cell_type": "code",
   "execution_count": 4,
   "id": "97de5842-b848-4466-b876-3702d0772327",
   "metadata": {},
   "outputs": [
    {
     "name": "stdin",
     "output_type": "stream",
     "text": [
      "How many strings you want to enter?  3\n",
      "Enter your strings:  apple\n",
      "Enter your strings:  lion\n",
      "Enter your strings:  ball\n"
     ]
    },
    {
     "name": "stdout",
     "output_type": "stream",
     "text": [
      "The sorted strings are: ['apple', 'ball', 'lion']\n"
     ]
    }
   ],
   "source": [
    "'''question 2 '''\n",
    "\n",
    "\n",
    "class SortKarde:\n",
    "    def __init__(self, arr):\n",
    "        self.arr = arr\n",
    "\n",
    "    def selectionwala(self):\n",
    "        n = len(self.arr)\n",
    "        for i in range(n - 1):\n",
    "            lowterm = i\n",
    "            for j in range(i + 1, n):\n",
    "                if self.arr[j] < self.arr[lowterm]:\n",
    "                    lowterm = j\n",
    "\n",
    "            temp = self.arr[i]\n",
    "            self.arr[i] = self.arr[lowterm]\n",
    "            self.arr[lowterm] = temp\n",
    "\n",
    "    def returnthe_sortedlist(self):\n",
    "        return self.arr\n",
    "\n",
    "\n",
    "a = int(input(\"How many strings you want to enter? \"))\n",
    "arr = []\n",
    "\n",
    "for i in range(a):\n",
    "    stri = input(\"Enter your strings: \")\n",
    "    arr.append(stri)\n",
    "\n",
    "sorter = SortKarde(arr)\n",
    "sorter.selectionwala()\n",
    "\n",
    "print(\"The sorted strings are:\", sorter.returnthe_sortedlist())"
   ]
  },
  {
   "cell_type": "code",
   "execution_count": 9,
   "id": "5b6c56d9-13c3-4a61-9786-41eb855c08b3",
   "metadata": {},
   "outputs": [
    {
     "name": "stdin",
     "output_type": "stream",
     "text": [
      "How many strings you want to enter?  4\n",
      "Enter a string:  i\n",
      "Enter a string:  am\n",
      "Enter a string:  chirag\n",
      "Enter a string:  hello\n"
     ]
    },
    {
     "name": "stdout",
     "output_type": "stream",
     "text": [
      "Sorted list: ['am', 'chirag', 'hello', 'i']\n"
     ]
    },
    {
     "name": "stdin",
     "output_type": "stream",
     "text": [
      "Enter the string to search:  i\n"
     ]
    },
    {
     "name": "stdout",
     "output_type": "stream",
     "text": [
      "String found at index 3\n"
     ]
    }
   ],
   "source": [
    "class SortKarde:\n",
    "    def __init__(self, arr):\n",
    "        self.arr = arr\n",
    "\n",
    "    def selectionwala(self):\n",
    "        n = len(self.arr)\n",
    "        for i in range(n - 1):\n",
    "            lowterm = i\n",
    "            for j in range(i + 1, n):\n",
    "                if self.arr[j] < self.arr[lowterm]:\n",
    "                    lowterm = j\n",
    "\n",
    "            temp = self.arr[i]\n",
    "            self.arr[i] = self.arr[lowterm]\n",
    "            self.arr[lowterm] = temp\n",
    "\n",
    "    def returnthe_sortedlist(self):\n",
    "        return self.arr\n",
    "\n",
    "\n",
    "class BinarySearchKarde:\n",
    "    def __init__(self, arr):\n",
    "        self.arr = arr\n",
    "\n",
    "    def searcher(self, target):\n",
    "        left = 0\n",
    "        right = len(self.arr) - 1\n",
    "\n",
    "        while left <= right:\n",
    "            mid = (left + right) // 2\n",
    "\n",
    "            if self.arr[mid] == target:\n",
    "                return mid\n",
    "            elif self.arr[mid] > target:\n",
    "                right = mid - 1\n",
    "            else:\n",
    "                left = mid + 1\n",
    "\n",
    "        return -1\n",
    "\n",
    "\n",
    "a = int(input(\"How many strings you want to enter? \"))\n",
    "arr = [input(\"Enter a string: \") for _ in range(a)]\n",
    "\n",
    "sorter = SortKarde(arr)\n",
    "sorter.selectionwala()\n",
    "sorted_list = sorter.returnthe_sortedlist()\n",
    "print(\"Sorted list:\", sorted_list)\n",
    "\n",
    "target = input(\"Enter the string to search: \")\n",
    "\n",
    "searcher = BinarySearchKarde(sorted_list)\n",
    "result = searcher.searcher(target)\n",
    "\n",
    "if result != -1:\n",
    "    print(f\"String found at index {result}\")\n",
    "else:\n",
    "    print(\"String not found\")\n"
   ]
  }
 ],
 "metadata": {
  "kernelspec": {
   "display_name": "Python 3 (ipykernel)",
   "language": "python",
   "name": "python3"
  },
  "language_info": {
   "codemirror_mode": {
    "name": "ipython",
    "version": 3
   },
   "file_extension": ".py",
   "mimetype": "text/x-python",
   "name": "python",
   "nbconvert_exporter": "python",
   "pygments_lexer": "ipython3",
   "version": "3.13.1"
  }
 },
 "nbformat": 4,
 "nbformat_minor": 5
}
